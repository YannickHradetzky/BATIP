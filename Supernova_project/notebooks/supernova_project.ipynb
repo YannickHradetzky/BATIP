{
 "cells": [
  {
   "cell_type": "markdown",
   "metadata": {},
   "source": [
    "# Inferring cosmological parameters with supernovae"
   ]
  },
  {
   "cell_type": "code",
   "execution_count": 1,
   "metadata": {
    "ExecuteTime": {
     "end_time": "2024-11-18T14:05:13.176886Z",
     "start_time": "2024-11-18T14:05:13.172592Z"
    }
   },
   "outputs": [],
   "source": [
    "import matplotlib.pyplot as plt\n",
    "import numpy as np\n",
    "import pandas as pd\n",
    "%matplotlib inline"
   ]
  },
  {
   "cell_type": "markdown",
   "metadata": {},
   "source": [
    "## Scientific background"
   ]
  },
  {
   "cell_type": "markdown",
   "metadata": {},
   "source": [
    "Supernovae Type Ia (SNe Ia) are crucial tools in modern cosmology due to their consistent intrinsic brightness, which makes them reliable \"standard candles.\" These supernovae occur in binary star systems where a white dwarf accumulates material from its companion until it reaches a critical mass and undergoes a thermonuclear explosion. The near-uniform peak luminosity of SNe Ia allows astronomers to determine their distances by comparing their intrinsic and observed brightness.\n",
    "By measuring the redshift of the host galaxies of these supernovae, we can infer how much the universe has expanded since the light was emitted. Combining distance measurements with redshifts enables us to map the relationship between the distance and velocity of galaxies, known as the Hubble-Lemaître law:\n",
    "$$\n",
    "v = H_0 d,\n",
    "$$\n",
    "where $v$ is the recessional velocity, $d$ is the (proper) distance, and $H_0$ is the Hubble constant. The Hubble constant is a fundamental cosmological parameter that quantifies the rate of expansion of the universe.\n",
    "At small redshifts, the recessional velocity $v$ can be approximated as $v \\approx cz$, where $c$ is the speed of light. For larger redshifts, this relationship is generalized using the **luminosity distance** $d_L$, which is defined as\n",
    "$$\n",
    "d_L = (1 + z) r(z),\n",
    "$$\n",
    "where \n",
    "$$\n",
    "r(z) = \\begin{cases}\\frac{1}{\\sqrt{\\Omega_k}} \\sinh \\left(\\sqrt{\\Omega_k} \\chi(z)\\right), & \\Omega_k>0 \\text { (open universe) } \\\\ \\chi(z), & \\Omega_k=0 \\text { (flat universe) } \\\\ \\frac{1}{\\sqrt{\\left|\\Omega_k\\right|}} \\sin \\left(\\sqrt{\\left|\\Omega_k\\right|} \\chi(z)\\right), & \\Omega_k<0 \\text { (closed universe) }\\end{cases}\n",
    "$$\n",
    "is the comoving distance to the source at redshift $z$, and $\\chi(z)$ is the line-of-sight integral of the inverse Hubble parameter\n",
    "$$\n",
    "\\chi(z) = \\int_0^z \\frac{c \\, dz'}{H(z')}.\n",
    "$$\n",
    "Here, $H(z)$ is the Hubble parameter, given in $\\Lambda$CDM cosmology by\n",
    "$$\n",
    "H(z) = H_0 \\sqrt{\\Omega_m (1+z)^3 + \\Omega_\\Lambda + \\Omega_k (1+z)^2},\n",
    "$$\n",
    "where, $\\Omega_m$, $\\Omega_\\Lambda$, and $\\Omega_k$ represent the matter, dark energy, and curvature density parameters, respectively, and $H_0$ is the Hubble constant.\n",
    "The luminosity distance is related to the distance modulus $\\mu$ by:\n",
    "$$\n",
    "d_L = 10^{\\mu/5 + 1} \\, \\text{pc}.\n",
    "$$\n",
    "In this project, you will use **supernova measurements** to infer **cosmological parameters**, either using **probabilistic inference** (e.g. in NumPyro) or **simulation-based inference** (e.g. using sbi).\n",
    "\n"
   ]
  },
  {
   "cell_type": "markdown",
   "metadata": {},
   "source": [
    "## Data"
   ]
  },
  {
   "cell_type": "markdown",
   "metadata": {},
   "source": [
    "For a start, we recommend using the Pantheon dataset from https://github.com/PantheonPlusSH0ES/DataRelease."
   ]
  },
  {
   "cell_type": "code",
   "execution_count": 2,
   "metadata": {
    "ExecuteTime": {
     "end_time": "2024-11-18T14:05:13.196278Z",
     "start_time": "2024-11-18T14:05:13.193860Z"
    }
   },
   "outputs": [],
   "source": [
    "# Download the Pantheon+ dataset\n",
    "# !wget https://github.com/PantheonPlusSH0ES/DataRelease/raw/refs/heads/main/Pantheon+_Data/4_DISTANCES_AND_COVAR/Pantheon+SH0ES.dat"
   ]
  },
  {
   "cell_type": "code",
   "execution_count": 3,
   "metadata": {
    "ExecuteTime": {
     "end_time": "2024-11-18T14:05:13.309817Z",
     "start_time": "2024-11-18T14:05:13.292561Z"
    }
   },
   "outputs": [],
   "source": [
    "# read Pantheon+ data into a pandas dataframe, data is separated by whitespace, first row is header\n",
    "df = pd.read_csv('Pantheon+SH0ES.dat', sep='\\s+', header=0)"
   ]
  },
  {
   "cell_type": "code",
   "execution_count": 4,
   "metadata": {
    "ExecuteTime": {
     "end_time": "2024-11-18T14:05:13.903086Z",
     "start_time": "2024-11-18T14:05:13.341805Z"
    }
   },
   "outputs": [
    {
     "data": {
      "text/plain": [
       "<matplotlib.legend.Legend at 0x78db82ec7250>"
      ]
     },
     "execution_count": 4,
     "metadata": {},
     "output_type": "execute_result"
    },
    {
     "data": {
      "image/png": "[encoded data removed]",
      "text/plain": [
       "<Figure size 432x288 with 1 Axes>"
      ]
     },
     "metadata": {
      "needs_background": "light"
     },
     "output_type": "display_data"
    }
   ],
   "source": [
    "fig, ax = plt.subplots()\n",
    "ax.errorbar(df['zHD'], df['MU_SH0ES'], df['MU_SH0ES_ERR_DIAG'], ls='None', marker='.', lw=1, capsize=2, label='Pantheon+SH0ES')\n",
    "ax.set_xlabel(r'$z$')\n",
    "ax.set_ylabel(r'Distance modulus $\\mu$')\n",
    "ax.legend()\n",
    "# **WARNING, DO NOT FIT COSMOLOGICAL PARAMETERS WITH THESE UNCERTAINTIES. YOU MUST USE THE FULL COVARIANCE. THIS IS ONLY FOR PLOTTING/VISUAL PURPOSES**\n",
    "\n"
   ]
  },
  {
   "cell_type": "code",
   "execution_count": 5,
   "metadata": {
    "ExecuteTime": {
     "end_time": "2024-11-18T14:05:13.922180Z",
     "start_time": "2024-11-18T14:05:13.918071Z"
    }
   },
   "outputs": [
    {
     "name": "stdout",
     "output_type": "stream",
     "text": [
      "(1701,)\n"
     ]
    }
   ],
   "source": [
    "print(df['zHD'].shape)"
   ]
  },
  {
   "cell_type": "markdown",
   "metadata": {},
   "source": [
    "## Task"
   ]
  },
  {
   "cell_type": "markdown",
   "metadata": {},
   "source": [
    "Due to the dependence of the datapoint on the cosmic distance ladder, the measurements can actually not be treated as independent. Therefore, a serious cosmological analysis of the data should use a covariance matrix (which is also provided at https://github.com/PantheonPlusSH0ES/DataRelease/tree/main/Pantheon%2B_Data/4_DISTANCES_AND_COVAR). However, for a start, you can ignore the covariance matrix and treat the measurements as independent. **Your task is now to build a simple analysis framework (either using probabilistic programming, e.g. in NumPyro, or using simulation-based inference, e.g. in sbi) that infers cosmological parameters from the Pantheon+ dataset.**\n",
    "\n",
    "Once you have built your analysis framework, you can extend the complexity of your analysis framework, e.g. by including the covariance matrix, by including additional data, or by including additional parameters."
   ]
  },
  {
   "cell_type": "markdown",
   "metadata": {},
   "source": [
    "## References        "
   ]
  },
  {
   "cell_type": "markdown",
   "metadata": {},
   "source": [
    "* Pantheon+ paper: https://arxiv.org/abs/2112.03863  (The Pantheon+ Analysis: The Full Dataset and Light-Curve Release)\n",
    "* SH0ES paper: https://arxiv.org/abs/2112.04510 (A Comprehensive Measurement of the Local Value of the Hubble Constant with 1 km/s/Mpc Uncertainty from the Hubble Space Telescope and the SH0ES Team)"
   ]
  }
 ],
 "metadata": {
  "kernelspec": {
   "display_name": "BATIP",
   "language": "python",
   "name": "python3"
  },
  "language_info": {
   "codemirror_mode": {
    "name": "ipython",
    "version": 2
   },
   "file_extension": ".py",
   "mimetype": "text/x-python",
   "name": "python",
   "nbconvert_exporter": "python",
   "pygments_lexer": "ipython2",
   "version": "3.10.13"
  }
 },
 "nbformat": 4,
 "nbformat_minor": 0
}
