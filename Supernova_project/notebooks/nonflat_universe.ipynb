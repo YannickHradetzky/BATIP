{
 "cells": [
  {
   "cell_type": "code",
   "execution_count": 43,
   "metadata": {},
   "outputs": [
    {
     "name": "stdout",
     "output_type": "stream",
     "text": [
      "Using 11 cores for JAX\n"
     ]
    }
   ],
   "source": [
    "import jax\n",
    "import jax.numpy as jnp\n",
    "from jax import vmap\n",
    "import numpyro\n",
    "import numpyro.distributions as dist\n",
    "from numpyro import sample\n",
    "import multiprocessing\n",
    "import os\n",
    "\n",
    "# Set number of CPU cores JAX will use\n",
    "num_cores = multiprocessing.cpu_count()-1  # Get number of available CPU cores\n",
    "# Use all available cores since we want maximum performance\n",
    "os.environ[\"XLA_FLAGS\"] = f\"--xla_force_host_platform_device_count={num_cores}\"\n",
    "print(f\"Using {num_cores} cores for JAX\")\n",
    "\n",
    "# Configure thread count for better performance\n",
    "os.environ[\"OPENBLAS_NUM_THREADS\"] = str(num_cores)\n",
    "os.environ[\"MKL_NUM_THREADS\"] = str(num_cores)\n",
    "os.environ[\"OMP_NUM_THREADS\"] = str(num_cores)  # Added OpenMP thread control\n",
    "os.environ[\"VECLIB_MAXIMUM_THREADS\"] = str(num_cores)  # For MacOS users\n",
    "\n",
    "# Basic configuration\n",
    "jax.config.update(\"jax_enable_x64\", True)  # Enable 64-bit precision for better accuracy\n",
    "jax.config.update(\"jax_platform_name\", \"cpu\")\n",
    "numpyro.set_platform(\"cpu\")\n",
    "\n",
    "# For NumPyro, increase the number of threads\n",
    "numpyro.set_host_device_count(num_cores)"
   ]
  },
  {
   "cell_type": "markdown",
   "metadata": {},
   "source": [
    "# Define Functions and constants"
   ]
  },
  {
   "cell_type": "code",
   "execution_count": 44,
   "metadata": {},
   "outputs": [],
   "source": [
    "c = 299792.458  # speed of light in km/s\n",
    "N = 1000  # number of integration points\n",
    "\n",
    "def H(z, H0, Om, Ok):\n",
    "    \"\"\"Hubble parameter at redshift z\"\"\"\n",
    "    OL = 1 - Om - Ok  # Non-flat universe: Omega_Lambda = 1 - Omega_m - Omega_k\n",
    "    return H0 * jnp.sqrt(jnp.maximum(Om * (1 + z)**3 + Ok * (1 + z)**2 + OL, 1e-10))\n",
    "\n",
    "def luminosity_distance(z, Om, Ok, H0):\n",
    "    \"\"\"Calculate luminosity distance in Mpc for non-flat universe\"\"\"\n",
    "    # evaluate H(z) at all z\n",
    "    z_array = jnp.linspace(0, z, N)\n",
    "    dz = z_array[1] - z_array[0]\n",
    "    H_z = H(z_array, H0, Om, Ok)\n",
    "    H_z = 1/H_z\n",
    "    # integrate H(z) from 0 to z using rectangular approximation\n",
    "    return jnp.sum(H_z[:-1] * dz)  # Riemann sum for integration\n",
    "\n",
    "def distance_modulus(z, Om, Ok, H0):\n",
    "    \"\"\"Calculate distance modulus\"\"\"\n",
    "    dL = luminosity_distance(z, Om, Ok, H0)\n",
    "    \n",
    "    # Replace direct boolean comparisons with jax.lax.cond\n",
    "    def flat_case(dL):\n",
    "        return dL\n",
    "    \n",
    "    def open_case(dL):\n",
    "        return 1/jnp.sqrt(Ok)*jnp.sinh(jnp.sqrt(Ok)*dL)\n",
    "    \n",
    "    def closed_case(dL):\n",
    "        return 1/jnp.sqrt(-Ok)*jnp.sin(jnp.sqrt(-Ok)*dL)\n",
    "    \n",
    "    # First check if Ok == 0 (flat)\n",
    "    result = jax.lax.cond(\n",
    "        jnp.abs(Ok) < 1e-10,  # Numerical tolerance for \"zero\"\n",
    "        flat_case,\n",
    "        # If not flat, check if open or closed\n",
    "        lambda dL: jax.lax.cond(\n",
    "            Ok > 0,\n",
    "            open_case,\n",
    "            closed_case,\n",
    "            dL\n",
    "        ),\n",
    "        dL\n",
    "    )\n",
    "    \n",
    "    return result\n",
    "\n",
    "# Vectorize the distance modulus calculation\n",
    "distance_modulus_vec = vmap(distance_modulus, in_axes=(0, None, None, None))\n",
    "\n",
    "def model(z, mu_obs, mu_err):\n",
    "    # Priors\n",
    "    H0 = sample(\"H0\", dist.Uniform(65, 75))      # Uniform prior on H0 between 50-90 km/s/Mpc\n",
    "    Om = sample(\"Om\", dist.Uniform(0.2, 0.4))        # Uniform prior on Omega_m between 0-1\n",
    "    Ok = sample(\"Ok\", dist.Uniform(-0.1, 0.1))       # Uniform prior on Omega_k between -1 to 1\n",
    "    \n",
    "    # Calculate expected distance modulus\n",
    "    mu_exp = distance_modulus_vec(z, Om, Ok, H0)\n",
    "    \n",
    "    # Likelihood (assuming independent measurements)\n",
    "    sample(\"obs\", dist.Normal(mu_exp, mu_err), obs=mu_obs)"
   ]
  },
  {
   "cell_type": "code",
   "execution_count": 45,
   "metadata": {},
   "outputs": [],
   "source": [
    "# load data\n",
    "import pandas as pd\n",
    "df = pd.read_csv('Pantheon+SH0ES.dat', sep='\\s+', header=0)"
   ]
  },
  {
   "cell_type": "code",
   "execution_count": 48,
   "metadata": {},
   "outputs": [
    {
     "name": "stderr",
     "output_type": "stream",
     "text": [
      "sample: 100%|██████████| 2500/2500 [01:17<00:00, 32.22it/s, 3 steps of size 5.45e-01. acc. prob=0.92] "
     ]
    },
    {
     "name": "stdout",
     "output_type": "stream",
     "text": [
      "\n",
      "                mean       std    median      5.0%     95.0%     n_eff     r_hat\n",
      "        H0     65.01      0.01     65.01     65.00     65.03   1387.66      1.00\n",
      "        Ok     -0.10      0.00     -0.10     -0.10     -0.10   1836.94      1.00\n",
      "        Om      0.20      0.00      0.20      0.20      0.20   1961.10      1.00\n",
      "\n",
      "Number of divergences: 0\n"
     ]
    },
    {
     "name": "stderr",
     "output_type": "stream",
     "text": [
      "\n"
     ]
    }
   ],
   "source": [
    "from numpyro.infer import MCMC, NUTS\n",
    "\n",
    "# Prepare data\n",
    "z = df['zHD'].values\n",
    "mu = df['MU_SH0ES'].values\n",
    "mu_err = df['MU_SH0ES_ERR_DIAG'].values\n",
    "\n",
    "# Setup inference\n",
    "kernel = NUTS(model)\n",
    "mcmc = MCMC(kernel, num_warmup=500, num_samples=2000)\n",
    "\n",
    "# Run inference\n",
    "mcmc.run(jax.random.PRNGKey(0), z, mu, mu_err)\n",
    "\n",
    "# Print results\n",
    "mcmc.print_summary()"
   ]
  },
  {
   "cell_type": "markdown",
   "metadata": {},
   "source": [
    "# Make Figures of result"
   ]
  },
  {
   "cell_type": "code",
   "execution_count": 47,
   "metadata": {},
   "outputs": [
    {
     "data": {
      "image/png": "[encoded data removed]",
      "text/plain": [
       "<Figure size 1000x400 with 3 Axes>"
      ]
     },
     "metadata": {},
     "output_type": "display_data"
    },
    {
     "name": "stdout",
     "output_type": "stream",
     "text": [
      "Infered Parameters:\n",
      "H0: 65.01 ± 0.01\n",
      "Ωm: 0.20 ± 0.00\n",
      "Ωk: -0.10 ± 0.00\n",
      "OL: 0.80 ± 0.00\n"
     ]
    }
   ],
   "source": [
    "import matplotlib.pyplot as plt\n",
    "# Get samples\n",
    "samples = mcmc.get_samples()\n",
    "\n",
    "# Create figure with two subplots\n",
    "fig, (ax1, ax2, ax3) = plt.subplots(1, 3, figsize=(10, 4))\n",
    "\n",
    "# Plot H0 histogram\n",
    "ax1.hist(samples['H0'], bins=30, density=True)\n",
    "ax1.set_xlabel('H0 (km/s/Mpc)')\n",
    "ax1.set_ylabel('Density')\n",
    "ax1.set_title('H0 Distribution')\n",
    "\n",
    "# Plot Om histogram \n",
    "ax2.hist(samples['Om'], bins=30, density=True)\n",
    "ax2.set_xlabel('Ωm')\n",
    "ax2.set_ylabel('Density')\n",
    "ax2.set_title('Ωm Distribution')\n",
    "\n",
    "# Plot Ok histogram\n",
    "ax3.hist(samples['Ok'], bins=30, density=True)\n",
    "ax3.set_xlabel('Ωk')\n",
    "ax3.set_ylabel('Density')\n",
    "ax3.set_title('Ωk Distribution')\n",
    "\n",
    "plt.tight_layout()\n",
    "plt.show()\n",
    "\n",
    "print(\"Infered Parameters:\")\n",
    "print(\"H0: {:.2f} ± {:.2f}\".format(jnp.mean(samples['H0']), jnp.std(samples['H0'])))\n",
    "print(\"Ωm: {:.2f} ± {:.2f}\".format(jnp.mean(samples['Om']), jnp.std(samples['Om'])))\n",
    "print(\"Ωk: {:.2f} ± {:.2f}\".format(jnp.mean(samples['Ok']), jnp.std(samples['Ok'])))\n",
    "print(\"OL: {:.2f} ± {:.2f}\".format(1-jnp.mean(samples['Om']), jnp.std(samples['Om'])))"
   ]
  },
  {
   "cell_type": "code",
   "execution_count": null,
   "metadata": {},
   "outputs": [],
   "source": []
  }
 ],
 "metadata": {
  "kernelspec": {
   "display_name": "BATIP",
   "language": "python",
   "name": "python3"
  },
  "language_info": {
   "codemirror_mode": {
    "name": "ipython",
    "version": 3
   },
   "file_extension": ".py",
   "mimetype": "text/x-python",
   "name": "python",
   "nbconvert_exporter": "python",
   "pygments_lexer": "ipython3",
   "version": "3.10.13"
  }
 },
 "nbformat": 4,
 "nbformat_minor": 2
}
