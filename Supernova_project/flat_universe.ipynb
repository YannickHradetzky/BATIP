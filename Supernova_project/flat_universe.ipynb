{
 "cells": [
  {
   "cell_type": "code",
   "execution_count": 6,
   "metadata": {},
   "outputs": [],
   "source": [
    "# Add these imports\n",
    "import jax\n",
    "import jax.numpy as jnp\n",
    "from jax import vmap\n",
    "import numpyro\n",
    "import numpyro.distributions as dist\n",
    "from numpyro import sample\n",
    "\n",
    "# Constants\n",
    "c = 299792.458  # speed of light in km/s\n",
    "\n",
    "def H(z, H0, Om):\n",
    "    \"\"\"Hubble parameter at redshift z\"\"\"\n",
    "    OL = 1 - Om  # Flat universe: Omega_Lambda = 1 - Omega_m\n",
    "    return H0 * jnp.sqrt(jnp.maximum(Om * (1 + z)**3 + OL, 1e-10))\n",
    "\n",
    "def luminosity_distance(z, Om, H0):\n",
    "    \"\"\"Calculate luminosity distance in Mpc\"\"\"\n",
    "    # Simple rectangle rule integration for comoving distance\n",
    "    N = 1000  # number of points\n",
    "    z_array = jnp.linspace(0, z, N)\n",
    "    dz = z_array[1] - z_array[0] # step size\n",
    "    \n",
    "    # Add small epsilon to prevent division by zero\n",
    "    integrand_values = vmap(lambda z_: c / H(z_, H0, Om))(z_array)\n",
    "    chi = jnp.sum(integrand_values) * dz\n",
    "    \n",
    "    # For flat universe, comoving distance equals proper distance\n",
    "    return jnp.maximum((1 + z) * chi, 1e-10)  # Ensure positive distance\n",
    "\n",
    "def distance_modulus(z, Om, H0):\n",
    "    \"\"\"Calculate distance modulus\"\"\"\n",
    "    dL = luminosity_distance(z, Om, H0)\n",
    "    return 5 * jnp.log10(jnp.maximum(dL, 1e-10)) + 25\n",
    "\n",
    "# Vectorize the distance modulus calculation\n",
    "distance_modulus_vec = vmap(distance_modulus, in_axes=(0, None, None))\n",
    "\n",
    "def model(z, mu_obs, mu_err):\n",
    "    # Priors\n",
    "    H0 = sample(\"H0\", dist.Uniform(60, 80))     # Uniform prior on H0\n",
    "    Om = sample(\"Om\", dist.Uniform(0.1, 0.9))   # Uniform prior on Omega_m\n",
    "    \n",
    "    # Calculate expected distance modulus\n",
    "    mu_exp = distance_modulus_vec(z, Om, H0)\n",
    "    \n",
    "    # Likelihood (assuming independent measurements)\n",
    "    sample(\"obs\", dist.Normal(mu_exp, mu_err), obs=mu_obs)"
   ]
  },
  {
   "cell_type": "code",
   "execution_count": 10,
   "metadata": {},
   "outputs": [],
   "source": [
    "# load data\n",
    "import pandas as pd\n",
    "df = pd.read_csv('Pantheon+SH0ES.dat', sep='\\s+', header=0)"
   ]
  },
  {
   "cell_type": "code",
   "execution_count": 11,
   "metadata": {},
   "outputs": [
    {
     "name": "stderr",
     "output_type": "stream",
     "text": [
      "sample: 100%|██████████| 2201/2201 [00:27<00:00, 78.85it/s, 5 steps of size 5.72e-01. acc. prob=0.93] \n"
     ]
    },
    {
     "name": "stdout",
     "output_type": "stream",
     "text": [
      "\n",
      "                mean       std    median      5.0%     95.0%     n_eff     r_hat\n",
      "        H0     73.05      0.26     73.05     72.59     73.45    488.33      1.00\n",
      "        Om      0.35      0.02      0.35      0.32      0.38    482.33      1.00\n",
      "\n",
      "Number of divergences: 0\n"
     ]
    },
    {
     "data": {
      "image/png": "[encoded data removed]",
      "text/plain": [
       "<Figure size 1000x400 with 2 Axes>"
      ]
     },
     "metadata": {},
     "output_type": "display_data"
    },
    {
     "name": "stdout",
     "output_type": "stream",
     "text": [
      "Infered Parameters:\n",
      "H0: 73.05 ± 0.26\n",
      "Ωm: 0.35 ± 0.02\n",
      "OL: 0.65 ± 0.02\n"
     ]
    }
   ],
   "source": [
    "from numpyro.infer import MCMC, NUTS\n",
    "\n",
    "# Prepare data\n",
    "z = df['zHD'].values\n",
    "mu = df['MU_SH0ES'].values\n",
    "mu_err = df['MU_SH0ES_ERR_DIAG'].values\n",
    "\n",
    "# Setup inference\n",
    "kernel = NUTS(model)\n",
    "mcmc = MCMC(kernel, num_warmup=500, num_samples=len(z))\n",
    "\n",
    "# Run inference\n",
    "mcmc.run(jax.random.PRNGKey(0), z, mu, mu_err)\n",
    "\n",
    "# Print results\n",
    "mcmc.print_summary()\n",
    "\n",
    "import matplotlib.pyplot as plt\n",
    "# Get samples\n",
    "samples = mcmc.get_samples()\n",
    "\n",
    "# Create figure with two subplots\n",
    "fig, (ax1, ax2) = plt.subplots(1, 2, figsize=(10, 4))\n",
    "\n",
    "# Plot H0 histogram\n",
    "ax1.hist(samples['H0'], bins=30, density=True)\n",
    "ax1.set_xlabel('H0 (km/s/Mpc)')\n",
    "ax1.set_ylabel('Density')\n",
    "ax1.set_title('H0 Distribution')\n",
    "\n",
    "# Plot Om histogram \n",
    "ax2.hist(samples['Om'], bins=30, density=True)\n",
    "ax2.set_xlabel('Ωm')\n",
    "ax2.set_ylabel('Density')\n",
    "ax2.set_title('Ωm Distribution')\n",
    "\n",
    "plt.tight_layout()\n",
    "plt.show()\n",
    "\n",
    "print(\"Infered Parameters:\")\n",
    "print(\"H0: {:.2f} ± {:.2f}\".format(jnp.mean(samples['H0']), jnp.std(samples['H0'])))\n",
    "print(\"Ωm: {:.2f} ± {:.2f}\".format(jnp.mean(samples['Om']), jnp.std(samples['Om'])))\n",
    "print(\"OL: {:.2f} ± {:.2f}\".format(1-jnp.mean(samples['Om']), jnp.std(samples['Om'])))"
   ]
  },
  {
   "cell_type": "code",
   "execution_count": null,
   "metadata": {},
   "outputs": [],
   "source": []
  }
 ],
 "metadata": {
  "kernelspec": {
   "display_name": "BATIP",
   "language": "python",
   "name": "python3"
  },
  "language_info": {
   "codemirror_mode": {
    "name": "ipython",
    "version": 3
   },
   "file_extension": ".py",
   "mimetype": "text/x-python",
   "name": "python",
   "nbconvert_exporter": "python",
   "pygments_lexer": "ipython3",
   "version": "3.10.13"
  }
 },
 "nbformat": 4,
 "nbformat_minor": 2
}
