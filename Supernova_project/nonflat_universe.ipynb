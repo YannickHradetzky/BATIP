{
 "cells": [
  {
   "cell_type": "code",
   "execution_count": 1,
   "metadata": {},
   "outputs": [
    {
     "name": "stdout",
     "output_type": "stream",
     "text": [
      "Using 11 cores for JAX\n"
     ]
    }
   ],
   "source": [
    "import jax\n",
    "import jax.numpy as jnp\n",
    "from jax import vmap\n",
    "import numpyro\n",
    "import numpyro.distributions as dist\n",
    "from numpyro import sample\n",
    "import multiprocessing\n",
    "import os\n",
    "\n",
    "# Set number of CPU cores JAX will use\n",
    "num_cores = multiprocessing.cpu_count()  # Get number of available CPU cores\n",
    "# Use num_cores-1 to leave one core for system tasks\n",
    "os.environ[\"XLA_FLAGS\"] = f\"--xla_force_host_platform_device_count={num_cores-1}\"\n",
    "print(f\"Using {num_cores-1} cores for JAX\")\n",
    "\n",
    "# Configure thread count for better performance\n",
    "os.environ[\"OPENBLAS_NUM_THREADS\"] = str(num_cores-1)\n",
    "os.environ[\"MKL_NUM_THREADS\"] = str(num_cores-1)\n",
    "\n",
    "# Basic configuration\n",
    "jax.config.update(\"jax_enable_x64\", False)\n",
    "jax.config.update(\"jax_platform_name\", \"cpu\")\n",
    "numpyro.set_platform(\"cpu\")\n",
    "\n",
    "# For NumPyro, increase the number of threads\n",
    "numpyro.set_host_device_count(num_cores-1)"
   ]
  },
  {
   "cell_type": "markdown",
   "metadata": {},
   "source": [
    "# Define Functions and constants"
   ]
  },
  {
   "cell_type": "code",
   "execution_count": 12,
   "metadata": {},
   "outputs": [],
   "source": [
    "c = 299792.458  # speed of light in km/s\n",
    "\n",
    "\n",
    "def H(z, H0, Om, Ok):\n",
    "    \"\"\"Hubble parameter at redshift z\"\"\"\n",
    "    OL = 1 - Om - Ok  # Non-flat universe: Omega_Lambda = 1 - Omega_m - Omega_k\n",
    "    return H0 * jnp.sqrt(jnp.maximum(Om * (1 + z)**3 + Ok * (1 + z)**2 + OL, 1e-10))\n",
    "\n",
    "def luminosity_distance(z, Om, Ok, H0):\n",
    "    \"\"\"Calculate luminosity distance in Mpc for non-flat universe\"\"\"\n",
    "    # Simple rectangle rule integration for comoving distance\n",
    "    N = 1000  # number of points\n",
    "    z_array = jnp.linspace(0, z, N)\n",
    "    dz = z_array[1] - z_array[0]\n",
    "    \n",
    "    integrand_values = vmap(lambda z_: c / H(z_, H0, Om, Ok))(z_array)\n",
    "    chi = jnp.sum(integrand_values) * dz\n",
    "    \n",
    "    # For non-flat universe, need to account for curvature\n",
    "    sqrt_abs_Ok = jnp.sqrt(jnp.abs(Ok)) * H0 / c\n",
    "    \n",
    "    # Define the three possible cases using lax.select\n",
    "    flat_case = chi\n",
    "    open_case = (c / (H0 * sqrt_abs_Ok)) * jnp.sinh(sqrt_abs_Ok * chi)\n",
    "    closed_case = (c / (H0 * sqrt_abs_Ok)) * jnp.sin(sqrt_abs_Ok * chi)\n",
    "    \n",
    "    # Select appropriate case based on Ok\n",
    "    dM = jnp.where(jnp.abs(Ok) < 1e-10,\n",
    "                   flat_case,\n",
    "                   jnp.where(Ok > 0,\n",
    "                            open_case,\n",
    "                            closed_case))\n",
    "    \n",
    "    return jnp.maximum((1 + z) * dM, 1e-10)  # Ensure positive distance\n",
    "\n",
    "def distance_modulus(z, Om, Ok, H0):\n",
    "    \"\"\"Calculate distance modulus\"\"\"\n",
    "    dL = luminosity_distance(z, Om, Ok, H0)\n",
    "    return 5 * jnp.log10(jnp.maximum(dL, 1e-10)) + 25\n",
    "\n",
    "# Vectorize the distance modulus calculation\n",
    "distance_modulus_vec = vmap(distance_modulus, in_axes=(0, None, None, None))\n",
    "\n",
    "def model(z, mu_obs, mu_err):\n",
    "    # Priors\n",
    "    H0 = sample(\"H0\", dist.Uniform(60, 80))     # Uniform prior on H0\n",
    "    Om = sample(\"Om\", dist.Uniform(0.1, 0.9))   # Uniform prior on Omega_m\n",
    "    Ok = sample(\"Ok\", dist.Uniform(-0.1, 0.1))  # Uniform prior on Omega_k\n",
    "    \n",
    "    # Calculate expected distance modulus\n",
    "    mu_exp = distance_modulus_vec(z, Om, Ok, H0)\n",
    "    \n",
    "    # Likelihood (assuming independent measurements)\n",
    "    sample(\"obs\", dist.Normal(mu_exp, mu_err), obs=mu_obs)"
   ]
  },
  {
   "cell_type": "code",
   "execution_count": 13,
   "metadata": {},
   "outputs": [],
   "source": [
    "# load data\n",
    "import pandas as pd\n",
    "df = pd.read_csv('Pantheon+SH0ES.dat', sep='\\s+', header=0)"
   ]
  },
  {
   "cell_type": "code",
   "execution_count": 14,
   "metadata": {},
   "outputs": [
    {
     "name": "stderr",
     "output_type": "stream",
     "text": [
      "sample: 100%|██████████| 2201/2201 [24:06<00:00,  1.52it/s, 31 steps of size 2.45e-02. acc. prob=0.78]   \n"
     ]
    },
    {
     "name": "stdout",
     "output_type": "stream",
     "text": [
      "\n",
      "                mean       std    median      5.0%     95.0%     n_eff     r_hat\n",
      "        H0     80.00      0.00     80.00     80.00     80.00     13.13      1.07\n",
      "        Ok      0.10      0.00      0.10      0.10      0.10    958.10      1.00\n",
      "        Om      0.90      0.00      0.90      0.90      0.90    862.42      1.00\n",
      "\n",
      "Number of divergences: 0\n"
     ]
    }
   ],
   "source": [
    "from numpyro.infer import MCMC, NUTS\n",
    "\n",
    "# Prepare data\n",
    "z = df['zHD'].values\n",
    "mu = df['MU_SH0ES'].values\n",
    "mu_err = df['MU_SH0ES_ERR_DIAG'].values\n",
    "\n",
    "# Setup inference\n",
    "kernel = NUTS(model)\n",
    "mcmc = MCMC(kernel, num_warmup=500, num_samples=len(z))\n",
    "\n",
    "# Run inference\n",
    "mcmc.run(jax.random.PRNGKey(0), z, mu, mu_err)\n",
    "\n",
    "# Print results\n",
    "mcmc.print_summary()"
   ]
  },
  {
   "cell_type": "markdown",
   "metadata": {},
   "source": [
    "# Make Figures of result"
   ]
  },
  {
   "cell_type": "code",
   "execution_count": null,
   "metadata": {},
   "outputs": [],
   "source": [
    "import matplotlib.pyplot as plt\n",
    "# Get samples\n",
    "samples = mcmc.get_samples()\n",
    "\n",
    "# Create figure with two subplots\n",
    "fig, (ax1, ax2, ax3) = plt.subplots(1, 3, figsize=(10, 4))\n",
    "\n",
    "# Plot H0 histogram\n",
    "ax1.hist(samples['H0'], bins=30, density=True)\n",
    "ax1.set_xlabel('H0 (km/s/Mpc)')\n",
    "ax1.set_ylabel('Density')\n",
    "ax1.set_title('H0 Distribution')\n",
    "\n",
    "# Plot Om histogram \n",
    "ax2.hist(samples['Om'], bins=30, density=True)\n",
    "ax2.set_xlabel('Ωm')\n",
    "ax2.set_ylabel('Density')\n",
    "ax2.set_title('Ωm Distribution')\n",
    "\n",
    "# Plot Ok histogram\n",
    "ax3.hist(samples['Ok'], bins=30, density=True)\n",
    "ax3.set_xlabel('Ωk')\n",
    "ax3.set_ylabel('Density')\n",
    "ax3.set_title('Ωk Distribution')\n",
    "\n",
    "plt.tight_layout()\n",
    "plt.show()\n",
    "\n",
    "print(\"Infered Parameters:\")\n",
    "print(\"H0: {:.2f} ± {:.2f}\".format(jnp.mean(samples['H0']), jnp.std(samples['H0'])))\n",
    "print(\"Ωm: {:.2f} ± {:.2f}\".format(jnp.mean(samples['Om']), jnp.std(samples['Om'])))\n",
    "print(\"Ωk: {:.2f} ± {:.2f}\".format(jnp.mean(samples['Ok']), jnp.std(samples['Ok'])))\n",
    "print(\"OL: {:.2f} ± {:.2f}\".format(1-jnp.mean(samples['Om']), jnp.std(samples['Om'])))"
   ]
  },
  {
   "cell_type": "code",
   "execution_count": null,
   "metadata": {},
   "outputs": [],
   "source": []
  }
 ],
 "metadata": {
  "kernelspec": {
   "display_name": "BATIP",
   "language": "python",
   "name": "python3"
  },
  "language_info": {
   "codemirror_mode": {
    "name": "ipython",
    "version": 3
   },
   "file_extension": ".py",
   "mimetype": "text/x-python",
   "name": "python",
   "nbconvert_exporter": "python",
   "pygments_lexer": "ipython3",
   "version": "3.10.13"
  }
 },
 "nbformat": 4,
 "nbformat_minor": 2
}
