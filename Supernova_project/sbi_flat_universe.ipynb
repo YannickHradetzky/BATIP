{
 "cells": [
  {
   "cell_type": "code",
   "execution_count": 44,
   "metadata": {},
   "outputs": [],
   "source": [
    "# Cell 1: Imports\n",
    "import torch\n",
    "import numpy as np\n",
    "import matplotlib.pyplot as plt\n",
    "from sbi import utils\n",
    "from sbi.inference import SNPE\n",
    "from sbi.utils.get_nn_models import posterior_nn\n",
    "import pandas as pd\n",
    "\n",
    "# Constants\n",
    "c = 299792.458  # speed of light in km/s"
   ]
  },
  {
   "cell_type": "code",
   "execution_count": 45,
   "metadata": {},
   "outputs": [],
   "source": [
    "# Cell 2: Physics functions\n",
    "def H(z, theta):\n",
    "    \"\"\"Hubble parameter at redshift z\"\"\"\n",
    "    H0, Om = theta[:, 0], theta[:, 1]\n",
    "    OL = 1 - Om  # Flat universe: Omega_Lambda = 1 - Omega_m\n",
    "    return H0[:, None] * torch.sqrt(torch.clamp(Om[:, None] * (1 + z)**3 + OL[:, None], min=1e-10))\n",
    "\n",
    "def luminosity_distance(z, theta):\n",
    "    \"\"\"Calculate luminosity distance in Mpc\"\"\"\n",
    "    N = 1000  # number of points\n",
    "    z_array = torch.linspace(0, z.max(), N)\n",
    "    dz = z_array[1] - z_array[0]\n",
    "    \n",
    "    # Calculate integrand values for all theta at once\n",
    "    integrand_values = c / H(z_array, theta)  # shape: [num_theta, N]\n",
    "    \n",
    "    # Cumulative sum for integration\n",
    "    chi = torch.cumsum(integrand_values * dz, dim=1)  # shape: [num_theta, N]\n",
    "    \n",
    "    # Linear interpolation for each parameter set\n",
    "    chi_interp = torch.zeros(theta.shape[0], len(z))\n",
    "    for i in range(len(z)):\n",
    "        # Find indices for interpolation\n",
    "        idx = torch.searchsorted(z_array, z[i])\n",
    "        idx = torch.clamp(idx, 1, N-1)\n",
    "        \n",
    "        # Get surrounding points\n",
    "        z0, z1 = z_array[idx-1], z_array[idx]\n",
    "        chi0, chi1 = chi[:, idx-1], chi[:, idx]\n",
    "        \n",
    "        # Linear interpolation\n",
    "        w = (z[i] - z0) / (z1 - z0)\n",
    "        chi_interp[:, i] = chi0 * (1 - w) + chi1 * w\n",
    "    \n",
    "    # For flat universe, comoving distance equals proper distance\n",
    "    return torch.clamp((1 + z) * chi_interp, min=1e-10)\n"
   ]
  },
  {
   "cell_type": "code",
   "execution_count": 46,
   "metadata": {},
   "outputs": [],
   "source": [
    "# Cell 3: Simulator\n",
    "def simulator(theta):\n",
    "    \"\"\"Simulator function that takes parameters and returns distance moduli\"\"\"\n",
    "    # Load data (we need the redshifts)\n",
    "    df = pd.read_csv('Pantheon+SH0ES.dat', sep='\\s+', header=0)\n",
    "    z = torch.tensor(df['zHD'].values, dtype=torch.float32)\n",
    "    \n",
    "    # Calculate distance modulus\n",
    "    dL = luminosity_distance(z, theta)\n",
    "    mu = 5 * torch.log10(torch.clamp(dL, min=1e-10)) + 25\n",
    "    \n",
    "    # Add observational noise\n",
    "    sigma = torch.tensor(df['MU_SH0ES_ERR_DIAG'].values, dtype=torch.float32)\n",
    "    mu += torch.randn_like(mu) * sigma[None, :]\n",
    "    \n",
    "    return mu"
   ]
  },
  {
   "cell_type": "code",
   "execution_count": 47,
   "metadata": {},
   "outputs": [],
   "source": [
    "# Cell 4: Neural Network Definition\n",
    "def create_neural_net(num_features):\n",
    "    \"\"\"Create a custom neural network for the posterior estimation\"\"\"\n",
    "    embedding_net = torch.nn.Sequential(\n",
    "        torch.nn.Linear(num_features, 64),\n",
    "        torch.nn.ReLU(),\n",
    "        torch.nn.Linear(64, 32),\n",
    "        torch.nn.ReLU(),\n",
    "        torch.nn.Linear(32, 16)\n",
    "    )\n",
    "    \n",
    "    return posterior_nn(\n",
    "        model='maf',  # Masked Autoregressive Flow\n",
    "        hidden_features=50,  # Number of hidden units per layer\n",
    "        num_transforms=5,    # Number of MAF transforms\n",
    "        num_blocks=2,        # Number of hidden layers per transform\n",
    "        embedding_net=embedding_net\n",
    "    )"
   ]
  },
  {
   "cell_type": "code",
   "execution_count": 48,
   "metadata": {},
   "outputs": [
    {
     "name": "stderr",
     "output_type": "stream",
     "text": [
      "/var/folders/yv/1fmjzcsn6xs23xrlfnvvd82w0000gn/T/ipykernel_90097/3099565414.py:12: DeprecationWarning: This method is deprecated and will be removed in a future release.Please use `from sbi.neural_nets import posterior_nn` in the future.\n",
      "  return posterior_nn(\n"
     ]
    },
    {
     "name": "stdout",
     "output_type": "stream",
     "text": [
      " Neural network successfully converged after 41 epochs.\n",
      "        -------------------------\n",
      "        ||||| ROUND 1 STATS |||||:\n",
      "        -------------------------\n",
      "        Epochs trained: 41\n",
      "        Best validation performance: -2.0065\n",
      "        -------------------------\n",
      "        \n"
     ]
    }
   ],
   "source": [
    "# Cell 5: Setup and Training\n",
    "# Define prior\n",
    "prior = utils.BoxUniform(\n",
    "    low=torch.tensor([60.0, 0.1]),  # H0, Om\n",
    "    high=torch.tensor([80.0, 0.9])\n",
    ")\n",
    "\n",
    "# Load data to get number of features\n",
    "df = pd.read_csv('Pantheon+SH0ES.dat', sep='\\s+', header=0)\n",
    "num_features = len(df['MU_SH0ES'].values)\n",
    "\n",
    "# Create inference object\n",
    "inference = SNPE(\n",
    "    prior=prior, \n",
    "    density_estimator=create_neural_net(num_features)\n",
    ")\n",
    "\n",
    "# Generate training data\n",
    "num_simulations = 50000\n",
    "theta = prior.sample((num_simulations,))\n",
    "x = simulator(theta)\n",
    "\n",
    "# Train the neural network\n",
    "density_estimator = inference.append_simulations(theta, x).train(\n",
    "    training_batch_size=1000,     \n",
    "    max_num_epochs=2000,          \n",
    "    show_train_summary=True,\n",
    "    validation_fraction=0.1,\n",
    "    stop_after_epochs=20,         \n",
    "    learning_rate=5e-4\n",
    ")\n",
    "posterior = inference.build_posterior(density_estimator)"
   ]
  },
  {
   "cell_type": "code",
   "execution_count": 51,
   "metadata": {},
   "outputs": [
    {
     "data": {
      "application/vnd.jupyter.widget-view+json": {
       "model_id": "8c9fa03040d341248d6802c8408ea28a",
       "version_major": 2,
       "version_minor": 0
      },
      "text/plain": [
       "Drawing 10000 posterior samples:   0%|          | 0/10000 [00:00<?, ?it/s]"
      ]
     },
     "metadata": {},
     "output_type": "display_data"
    },
    {
     "data": {
      "image/png": "[encoded data removed]",
      "text/plain": [
       "<Figure size 1000x400 with 2 Axes>"
      ]
     },
     "metadata": {},
     "output_type": "display_data"
    },
    {
     "name": "stdout",
     "output_type": "stream",
     "text": [
      "Inferred Parameters:\n",
      "H0: 77.20 ± 1.89\n",
      "Ωm: 0.15 ± 0.03\n",
      "ΩΛ: 0.85 ± 0.03\n"
     ]
    }
   ],
   "source": [
    "# Cell 6: Inference and Plotting\n",
    "# Load real data\n",
    "x_o = torch.tensor(df['MU_SH0ES'].values, dtype=torch.float32)\n",
    "\n",
    "# Sample from posterior\n",
    "samples = posterior.sample((10000,), x=x_o)\n",
    "\n",
    "# Plot results\n",
    "fig, (ax1, ax2) = plt.subplots(1, 2, figsize=(10, 4))\n",
    "\n",
    "ax1.hist(samples[:, 0].numpy(), bins=50, density=True)\n",
    "ax1.set_xlabel('H0 (km/s/Mpc)')\n",
    "ax1.set_ylabel('Density')\n",
    "ax1.set_title('H0 Distribution')\n",
    "\n",
    "ax2.hist(samples[:, 1].numpy(), bins=50, density=True)\n",
    "ax2.set_xlabel('Ωm')\n",
    "ax2.set_ylabel('Density')\n",
    "ax2.set_title('Ωm Distribution')\n",
    "\n",
    "plt.tight_layout()\n",
    "plt.show()\n",
    "\n",
    "# Print results\n",
    "print(\"Inferred Parameters:\")\n",
    "print(f\"H0: {samples[:, 0].mean():.2f} ± {samples[:, 0].std():.2f}\")\n",
    "print(f\"Ωm: {samples[:, 1].mean():.2f} ± {samples[:, 1].std():.2f}\")\n",
    "print(f\"ΩΛ: {1-samples[:, 1].mean():.2f} ± {samples[:, 1].std():.2f}\")"
   ]
  },
  {
   "cell_type": "code",
   "execution_count": null,
   "metadata": {},
   "outputs": [],
   "source": []
  },
  {
   "cell_type": "code",
   "execution_count": null,
   "metadata": {},
   "outputs": [],
   "source": []
  }
 ],
 "metadata": {
  "kernelspec": {
   "display_name": "BATIP",
   "language": "python",
   "name": "python3"
  },
  "language_info": {
   "codemirror_mode": {
    "name": "ipython",
    "version": 3
   },
   "file_extension": ".py",
   "mimetype": "text/x-python",
   "name": "python",
   "nbconvert_exporter": "python",
   "pygments_lexer": "ipython3",
   "version": "3.10.13"
  }
 },
 "nbformat": 4,
 "nbformat_minor": 2
}
