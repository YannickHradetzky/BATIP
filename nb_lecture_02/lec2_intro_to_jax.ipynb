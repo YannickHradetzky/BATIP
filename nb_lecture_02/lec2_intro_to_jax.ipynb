{
 "cells": [
  {
   "cell_type": "markdown",
   "id": "f456b2d9",
   "metadata": {},
   "source": [
    "# JAX\n",
    "\n",
    "[JAX](https://jax.readthedocs.io/en/latest/index.html) is a Python library for high performance array computing. This notebook demonstrates some basic features of JAX. The [documentation](https://jax.readthedocs.io/en/latest/index.html) contains a lot more information.\n",
    "\n",
    "## Automatic differentiation: autodiff\n",
    "\n",
    "Use `jax.grad` to get the gradient of a function. The `jax.grad` takes a function and returns the gradient,"
   ]
  },
  {
   "cell_type": "code",
   "execution_count": 1,
   "id": "fa44970f",
   "metadata": {},
   "outputs": [
    {
     "name": "stdout",
     "output_type": "stream",
     "text": [
      "2.0\n"
     ]
    }
   ],
   "source": [
    "from jax import grad\n",
    "\n",
    "def f(x):\n",
    "    return x**2.\n",
    "\n",
    "df_dx = grad(f)\n",
    "\n",
    "print(df_dx(1.))"
   ]
  },
  {
   "cell_type": "markdown",
   "id": "1681db49",
   "metadata": {},
   "source": [
    "## `jax.numpy`\n",
    "\n",
    "`JAX` does not work with standard `numpy` functions e.g. if we write a function which uses `np.cos` then try to get the gradient,"
   ]
  },
  {
   "cell_type": "code",
   "execution_count": 2,
   "id": "7baf82f8",
   "metadata": {},
   "outputs": [],
   "source": [
    "import numpy as np\n",
    "\n",
    "def f(x):\n",
    "    return np.cos(x)"
   ]
  },
  {
   "cell_type": "code",
   "execution_count": 3,
   "id": "dff428c0",
   "metadata": {},
   "outputs": [
    {
     "ename": "TracerArrayConversionError",
     "evalue": "The numpy.ndarray conversion method __array__() was called on traced array with shape float32[]\nSee https://jax.readthedocs.io/en/latest/errors.html#jax.errors.TracerArrayConversionError",
     "output_type": "error",
     "traceback": [
      "\u001b[0;31m---------------------------------------------------------------------------\u001b[0m",
      "\u001b[0;31mTracerArrayConversionError\u001b[0m                Traceback (most recent call last)",
      "Cell \u001b[0;32mIn[3], line 3\u001b[0m\n\u001b[1;32m      1\u001b[0m df_dx \u001b[38;5;241m=\u001b[39m grad(f)\n\u001b[0;32m----> 3\u001b[0m \u001b[38;5;28mprint\u001b[39m(\u001b[43mdf_dx\u001b[49m\u001b[43m(\u001b[49m\u001b[38;5;241;43m0.\u001b[39;49m\u001b[43m)\u001b[49m)\n",
      "    \u001b[0;31m[... skipping hidden 17 frame]\u001b[0m\n",
      "Cell \u001b[0;32mIn[2], line 4\u001b[0m, in \u001b[0;36mf\u001b[0;34m(x)\u001b[0m\n\u001b[1;32m      3\u001b[0m \u001b[38;5;28;01mdef\u001b[39;00m \u001b[38;5;21mf\u001b[39m(x):\n\u001b[0;32m----> 4\u001b[0m     \u001b[38;5;28;01mreturn\u001b[39;00m \u001b[43mnp\u001b[49m\u001b[38;5;241;43m.\u001b[39;49m\u001b[43mcos\u001b[49m\u001b[43m(\u001b[49m\u001b[43mx\u001b[49m\u001b[43m)\u001b[49m\n",
      "File \u001b[0;32m~/miniconda3/envs/BATIP/lib/python3.10/site-packages/jax/_src/core.py:665\u001b[0m, in \u001b[0;36mTracer.__array__\u001b[0;34m(self, *args, **kw)\u001b[0m\n\u001b[1;32m    664\u001b[0m \u001b[38;5;28;01mdef\u001b[39;00m \u001b[38;5;21m__array__\u001b[39m(\u001b[38;5;28mself\u001b[39m, \u001b[38;5;241m*\u001b[39margs, \u001b[38;5;241m*\u001b[39m\u001b[38;5;241m*\u001b[39mkw):\n\u001b[0;32m--> 665\u001b[0m   \u001b[38;5;28;01mraise\u001b[39;00m TracerArrayConversionError(\u001b[38;5;28mself\u001b[39m)\n",
      "\u001b[0;31mTracerArrayConversionError\u001b[0m: The numpy.ndarray conversion method __array__() was called on traced array with shape float32[]\nSee https://jax.readthedocs.io/en/latest/errors.html#jax.errors.TracerArrayConversionError"
     ]
    }
   ],
   "source": [
    "df_dx = grad(f)\n",
    "\n",
    "print(df_dx(0.))"
   ]
  },
  {
   "cell_type": "markdown",
   "id": "90b1268e",
   "metadata": {},
   "source": [
    "we get a `TracerArrayConversionError`.\n",
    "\n",
    "Instead, we can use the [`jax.numpy`](https://jax.readthedocs.io/en/latest/jax.numpy.html) library - this provides a drop-in replacement for most `numpy` functions."
   ]
  },
  {
   "cell_type": "code",
   "execution_count": 4,
   "id": "f1a94a24",
   "metadata": {},
   "outputs": [
    {
     "name": "stdout",
     "output_type": "stream",
     "text": [
      "-0.0\n"
     ]
    }
   ],
   "source": [
    "import jax.numpy as jnp\n",
    "\n",
    "def f(x):\n",
    "    return jnp.cos(x)\n",
    "\n",
    "df_dx = grad(f)\n",
    "\n",
    "x = jnp.array(0.)\n",
    "print(df_dx(x))"
   ]
  },
  {
   "cell_type": "markdown",
   "id": "9ccfda5d",
   "metadata": {},
   "source": [
    "Similarly [`jax.scipy`](https://jax.readthedocs.io/en/latest/jax.scipy.html) provides a replacement for most `scipy` functions.\n",
    "\n",
    "## Random numbers in `JAX`\n",
    "\n",
    "Setting a random seed allows you to produce reproducible random outputs.\n",
    "\n",
    "In `numpy` you can set the random seed like this:"
   ]
  },
  {
   "cell_type": "code",
   "execution_count": 5,
   "id": "d63b4266",
   "metadata": {},
   "outputs": [],
   "source": [
    "import numpy as np\n",
    "np.random.seed(42) # where 42 can be any integer "
   ]
  },
  {
   "cell_type": "markdown",
   "id": "3bd2e41a",
   "metadata": {},
   "source": [
    "This does not with JAX. The equivalent JAX statement looks like this:"
   ]
  },
  {
   "cell_type": "code",
   "execution_count": 6,
   "id": "953872b1",
   "metadata": {},
   "outputs": [],
   "source": [
    "from jax import random\n",
    "\n",
    "key = random.key(42)"
   ]
  },
  {
   "cell_type": "markdown",
   "id": "c90aefa2",
   "metadata": {},
   "source": [
    "This random key is passed as an input parameter to many `numpyro` functions."
   ]
  },
  {
   "cell_type": "markdown",
   "id": "50fac75d",
   "metadata": {},
   "source": [
    "## Other \n",
    "\n",
    "This notebook just scratches the surface of what you can do with JAX. \n",
    "\n",
    "Other useful features:\n",
    "\n",
    "- [automatic vectorisation](https://jax.readthedocs.io/en/latest/automatic-vectorization.html#)\n",
    "- [just-in-time compilation](https://jax.readthedocs.io/en/latest/jit-compilation.html)\n",
    "\n",
    "Also see [The Sharp Bits](https://jax.readthedocs.io/en/latest/notebooks/Common_Gotchas_in_JAX.html) for common mistakes."
   ]
  },
  {
   "cell_type": "markdown",
   "id": "80b11dd0",
   "metadata": {},
   "source": []
  },
  {
   "cell_type": "markdown",
   "id": "679c5864",
   "metadata": {},
   "source": [
    " "
   ]
  }
 ],
 "metadata": {
  "kernelspec": {
   "display_name": "Python 3 (ipykernel)",
   "language": "python",
   "name": "python3"
  },
  "language_info": {
   "codemirror_mode": {
    "name": "ipython",
    "version": 3
   },
   "file_extension": ".py",
   "mimetype": "text/x-python",
   "name": "python",
   "nbconvert_exporter": "python",
   "pygments_lexer": "ipython3",
   "version": "3.10.15"
  }
 },
 "nbformat": 4,
 "nbformat_minor": 5
}
